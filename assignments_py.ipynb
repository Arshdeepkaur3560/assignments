{
  "nbformat": 4,
  "nbformat_minor": 0,
  "metadata": {
    "colab": {
      "provenance": [],
      "collapsed_sections": [
        "jv-q6vKRloT_"
      ],
      "include_colab_link": true
    },
    "kernelspec": {
      "name": "python3",
      "display_name": "Python 3"
    },
    "language_info": {
      "name": "python"
    }
  },
  "cells": [
    {
      "cell_type": "markdown",
      "metadata": {
        "id": "view-in-github",
        "colab_type": "text"
      },
      "source": [
        "<a href=\"https://colab.research.google.com/github/Arshdeepkaur3560/assignments/blob/main/assignments_py.ipynb\" target=\"_parent\"><img src=\"https://colab.research.google.com/assets/colab-badge.svg\" alt=\"Open In Colab\"/></a>"
      ]
    },
    {
      "cell_type": "markdown",
      "source": [
        "### **Assignment.1**"
      ],
      "metadata": {
        "id": "zZX_s5C075CO"
      }
    },
    {
      "cell_type": "markdown",
      "source": [
        "### 1.Create variables to store your name (string), age (integer), and course (string). Print all of them using a single print() statement."
      ],
      "metadata": {
        "id": "uiquEIrDk4K6"
      }
    },
    {
      "cell_type": "code",
      "source": [
        "name=\"khushdeep kaur\"\n",
        "age=18.5\n",
        "course=\"b.Tech\"\n",
        "print(name,age,course)\n"
      ],
      "metadata": {
        "colab": {
          "base_uri": "https://localhost:8080/"
        },
        "id": "9eRTG6oUk_QQ",
        "outputId": "f8f4a319-a2f2-4776-b1e9-e2a03df38d48"
      },
      "execution_count": null,
      "outputs": [
        {
          "output_type": "stream",
          "name": "stdout",
          "text": [
            "khushdeep kaur 18.5 b.Tech\n"
          ]
        }
      ]
    },
    {
      "cell_type": "markdown",
      "source": [
        "###  2.Write a program to swap two numbers without using a third variable. Example: a = 4, b = 9."
      ],
      "metadata": {
        "id": "jv-q6vKRloT_"
      }
    },
    {
      "cell_type": "code",
      "source": [
        "a=4\n",
        "b=9\n",
        "a,b=b,a\n",
        "print(a,b)"
      ],
      "metadata": {
        "colab": {
          "base_uri": "https://localhost:8080/"
        },
        "id": "PQxizUGmlvFi",
        "outputId": "db15752e-9f83-485d-8b8c-5c38d2cdba34"
      },
      "execution_count": null,
      "outputs": [
        {
          "output_type": "stream",
          "name": "stdout",
          "text": [
            "9 4\n"
          ]
        }
      ]
    },
    {
      "cell_type": "markdown",
      "source": [
        "### 3.Take two numbers from the user and display:\n",
        "• Sum\n",
        "• Difference\n",
        "• Product\n",
        "• Quotient\n",
        "• Remainder"
      ],
      "metadata": {
        "id": "ZTqsvBCAl56w"
      }
    },
    {
      "cell_type": "code",
      "source": [
        "a=12\n",
        "b=4\n",
        "print(a+b)\n",
        "print(a-b)\n",
        "print(a*b)\n",
        "print(a/b)\n",
        "print(a%b)\n",
        "\n",
        "\n"
      ],
      "metadata": {
        "colab": {
          "base_uri": "https://localhost:8080/"
        },
        "id": "pkZrfQ5cmATc",
        "outputId": "62207f4c-b189-47fc-8b3a-cd8a677b3d9f"
      },
      "execution_count": null,
      "outputs": [
        {
          "output_type": "stream",
          "name": "stdout",
          "text": [
            "16\n",
            "8\n",
            "48\n",
            "3.0\n",
            "0\n"
          ]
        }
      ]
    },
    {
      "cell_type": "markdown",
      "source": [
        "#### 4.Take marks of 5 subjects and calculate the total and percentage\n"
      ],
      "metadata": {
        "id": "kFxW3fxcm6OX"
      }
    },
    {
      "cell_type": "code",
      "source": [
        "english=80\n",
        "punjabi=80\n",
        "maths=79\n",
        "science=79\n",
        "hindi=80\n",
        "total=english+punjabi+maths+science+hindi\n",
        "print(total/400*100)"
      ],
      "metadata": {
        "colab": {
          "base_uri": "https://localhost:8080/"
        },
        "id": "vbr0pmELnE6R",
        "outputId": "4d3d8cf0-9ce0-45b9-f1b5-470b5a330ab0"
      },
      "execution_count": null,
      "outputs": [
        {
          "output_type": "stream",
          "name": "stdout",
          "text": [
            "99.5\n"
          ]
        }
      ]
    },
    {
      "cell_type": "markdown",
      "source": [
        "### 5.Start with x = 10. Then:\n",
        "• Add 5 using +=\n",
        "• Multiply by 2 using *=\n",
        "• Subtract 4 using -=\n",
        "• Divide by 2 using /=\n",
        "Print the value after each operation."
      ],
      "metadata": {
        "id": "xH2QsK97nyIl"
      }
    },
    {
      "cell_type": "code",
      "source": [
        "x=10\n",
        "x+=2\n",
        "print(x)\n",
        "x=10\n",
        "x*=2\n",
        "print(x)\n",
        "x=10\n",
        "x-=4\n",
        "print(x)\n",
        "x=10\n",
        "x/=2\n",
        "print(x)\n",
        "\n",
        "\n",
        "\n"
      ],
      "metadata": {
        "colab": {
          "base_uri": "https://localhost:8080/"
        },
        "id": "5A7bmMICn5XZ",
        "outputId": "a2049286-b6b4-4220-f1be-ed2bdd57ddd9"
      },
      "execution_count": null,
      "outputs": [
        {
          "output_type": "stream",
          "name": "stdout",
          "text": [
            "12\n",
            "20\n",
            "6\n",
            "5.0\n"
          ]
        }
      ]
    },
    {
      "cell_type": "markdown",
      "source": [
        "### 6.Write a program that compares two numbers and prints:\n",
        "• Whether they are equal\n",
        "• Whether the first is greater\n",
        "• Whether the second is greater"
      ],
      "metadata": {
        "id": "TZ5Xslwfoy8G"
      }
    },
    {
      "cell_type": "code",
      "source": [
        "a=24\n",
        "b=18\n",
        "print(a==b)\n",
        "print(a>b)\n",
        "print(a<b)"
      ],
      "metadata": {
        "colab": {
          "base_uri": "https://localhost:8080/"
        },
        "id": "ZWYYzagqo43U",
        "outputId": "cb7a3065-77a6-4fb2-bef0-6c5fffa06153"
      },
      "execution_count": null,
      "outputs": [
        {
          "output_type": "stream",
          "name": "stdout",
          "text": [
            "False\n",
            "True\n",
            "False\n"
          ]
        }
      ]
    },
    {
      "cell_type": "markdown",
      "source": [
        "#### 7.Write a program that compares two numbers and prints:\n",
        "• Whether they are equal\n",
        "• Whether the first is greater\n",
        "• Whether the second is greater\n",
        "\n"
      ],
      "metadata": {
        "id": "CivI974XpLCk"
      }
    },
    {
      "cell_type": "code",
      "source": [
        "is_raining= True\n",
        "have_umbrella=False\n",
        "print(is_raining and have_umbrella)\n",
        "print(is_raining or have_umbrella)\n",
        "\n"
      ],
      "metadata": {
        "colab": {
          "base_uri": "https://localhost:8080/"
        },
        "id": "KeqU4xiQpS0X",
        "outputId": "c8f2e004-5faf-4780-c504-0556c60db35b"
      },
      "execution_count": null,
      "outputs": [
        {
          "output_type": "stream",
          "name": "stdout",
          "text": [
            "False\n",
            "True\n"
          ]
        }
      ]
    },
    {
      "cell_type": "markdown",
      "source": [
        "### 8.Create two identical lists and compare them using:\n",
        "• ==\n",
        "• is\n",
        "Print and explain the result."
      ],
      "metadata": {
        "id": "RrCBkugkp_Rd"
      }
    },
    {
      "cell_type": "code",
      "source": [
        "l1=[12,45,56,34,15]\n",
        "l2=[12,45,56,34,15]\n",
        "print(l1==l2)\n",
        "print(l1 is l2)"
      ],
      "metadata": {
        "colab": {
          "base_uri": "https://localhost:8080/"
        },
        "id": "m2g1EwRPqEOx",
        "outputId": "a32d6879-02f4-42ea-a85b-81309e35efe9"
      },
      "execution_count": null,
      "outputs": [
        {
          "output_type": "stream",
          "name": "stdout",
          "text": [
            "True\n",
            "False\n"
          ]
        }
      ]
    },
    {
      "cell_type": "markdown",
      "source": [
        "### 9.Take two numbers and show the result of:\n",
        "• Bitwise AND (&)\n",
        "• Bitwise OR (|)\n",
        "• Bitwise XOR (^)"
      ],
      "metadata": {
        "id": "KwXsnB2VM8Yz"
      }
    },
    {
      "cell_type": "code",
      "source": [
        "n1=1011\n",
        "n2=1110\n",
        "print(n1 & n2)\n",
        "print(n1 | n2)\n",
        "print(n1 ^ n2)"
      ],
      "metadata": {
        "colab": {
          "base_uri": "https://localhost:8080/"
        },
        "id": "lYeJttAWNEBw",
        "outputId": "e963b9ff-8508-4d3e-f87b-c6151bcc2b1f"
      },
      "execution_count": null,
      "outputs": [
        {
          "output_type": "stream",
          "name": "stdout",
          "text": [
            "82\n",
            "2039\n",
            "1957\n"
          ]
        }
      ]
    },
    {
      "cell_type": "markdown",
      "source": [
        "#### 10.Take user input for an integer and a float. Add them and print:\n",
        "• Their types using type()\n",
        "• Their sum as an integer\n"
      ],
      "metadata": {
        "id": "b7M9d-BsPQxZ"
      }
    },
    {
      "cell_type": "code",
      "source": [
        "a=5\n",
        "n=float(a)\n",
        "print(n)\n",
        "print(type(n))"
      ],
      "metadata": {
        "colab": {
          "base_uri": "https://localhost:8080/"
        },
        "id": "cI87O5-MPTYZ",
        "outputId": "4a0b931f-46cb-4ac7-8cf5-b4f524f0cd1e"
      },
      "execution_count": null,
      "outputs": [
        {
          "output_type": "stream",
          "name": "stdout",
          "text": [
            "5.0\n",
            "<class 'float'>\n"
          ]
        }
      ]
    },
    {
      "cell_type": "markdown",
      "source": [
        "## **Assignment.2**"
      ],
      "metadata": {
        "id": "KLc5bmdi5y0e"
      }
    },
    {
      "cell_type": "markdown",
      "source": [
        "## 1. WAP to print number 1 to 10 but stop the loop when number reach 9"
      ],
      "metadata": {
        "id": "2IobCmr36lhn"
      }
    },
    {
      "cell_type": "code",
      "source": [
        "count=0\n",
        "while (count<10):\n",
        "  print(count)\n",
        "  count=count+1\n"
      ],
      "metadata": {
        "colab": {
          "base_uri": "https://localhost:8080/"
        },
        "id": "k49KpCJY7eSs",
        "outputId": "8eb40378-2d5a-41db-f37d-35591147771c"
      },
      "execution_count": null,
      "outputs": [
        {
          "output_type": "stream",
          "name": "stdout",
          "text": [
            "0\n",
            "1\n",
            "2\n",
            "3\n",
            "4\n",
            "5\n",
            "6\n",
            "7\n",
            "8\n",
            "9\n"
          ]
        }
      ]
    },
    {
      "cell_type": "markdown",
      "source": [
        "## 2.WAP that keep asking the user to enter the number and stop when the user enter a negative number"
      ],
      "metadata": {
        "id": "8AEQgcXC7ulv"
      }
    },
    {
      "cell_type": "code",
      "source": [
        "while True:\n",
        "  r=int(input(\"enter the number=\"))\n",
        "  if (r>0):\n",
        "    print(\"number is positive\")\n",
        "  else:\n",
        "    print(\"number is negative\")\n",
        "    break"
      ],
      "metadata": {
        "colab": {
          "base_uri": "https://localhost:8080/"
        },
        "id": "QjChhZGe7z6e",
        "outputId": "f11dd4da-921f-4412-a175-83d718f80e78"
      },
      "execution_count": null,
      "outputs": [
        {
          "output_type": "stream",
          "name": "stdout",
          "text": [
            "enter the number=67\n",
            "number is positive\n",
            "enter the number=-6\n",
            "number is negative\n"
          ]
        }
      ]
    },
    {
      "cell_type": "markdown",
      "source": [
        "## 3.WAP to find first even number in a list using a for loop and break"
      ],
      "metadata": {
        "id": "WKRQ8kZV7_nW"
      }
    },
    {
      "cell_type": "code",
      "source": [
        "L=[1,3,5,6,3,78,89,88,78,76,99,55,33]\n",
        "for i in range (len(L)):\n",
        "  if (L[i]%2==0):\n",
        "    print(\"first even number is \",L[i])\n",
        "    break\n"
      ],
      "metadata": {
        "colab": {
          "base_uri": "https://localhost:8080/"
        },
        "id": "3sPjX1mT8FqO",
        "outputId": "0f230f59-f504-49e3-dbf9-405ec48f9083"
      },
      "execution_count": null,
      "outputs": [
        {
          "output_type": "stream",
          "name": "stdout",
          "text": [
            "first even number is  6\n"
          ]
        }
      ]
    },
    {
      "cell_type": "markdown",
      "source": [
        "## 4. keep adding number onwords until total sum exceeds 25 print last sum and digit"
      ],
      "metadata": {
        "id": "n6_vgpJL8N-j"
      }
    },
    {
      "cell_type": "code",
      "source": [
        "sum=0\n",
        "for i in range(0,50):\n",
        "  sum+=i\n",
        "  if sum<25:\n",
        "    print(\"last sum=\",sum)\n",
        "    print(\"last digit =\",i)"
      ],
      "metadata": {
        "colab": {
          "base_uri": "https://localhost:8080/"
        },
        "id": "45ghuOVA8d0m",
        "outputId": "9ca3394c-6077-4785-c955-11935c1d749c"
      },
      "execution_count": null,
      "outputs": [
        {
          "output_type": "stream",
          "name": "stdout",
          "text": [
            "last sum= 0\n",
            "last digit = 0\n",
            "last sum= 1\n",
            "last digit = 1\n",
            "last sum= 3\n",
            "last digit = 2\n",
            "last sum= 6\n",
            "last digit = 3\n",
            "last sum= 10\n",
            "last digit = 4\n",
            "last sum= 15\n",
            "last digit = 5\n",
            "last sum= 21\n",
            "last digit = 6\n"
          ]
        }
      ]
    },
    {
      "cell_type": "markdown",
      "source": [
        "## 5.keep asking the user to guess the password until they guess admin123 . use while and break"
      ],
      "metadata": {
        "id": "ml1eC9i08kqC"
      }
    },
    {
      "cell_type": "code",
      "source": [
        "while True:\n",
        "  x=input(\"enter the password:\")\n",
        "  if (x==\"admin123\"):\n",
        "    print(\"correct pass\")\n",
        "    break\n",
        "  else:\n",
        "    print(\"wrong pass\")\n"
      ],
      "metadata": {
        "colab": {
          "base_uri": "https://localhost:8080/"
        },
        "id": "6O9A-wGn81Uo",
        "outputId": "cd5756f6-0d9c-4104-cd0c-071be45488db"
      },
      "execution_count": null,
      "outputs": [
        {
          "output_type": "stream",
          "name": "stdout",
          "text": [
            "enter the password:6785\n",
            "wrong pass\n",
            "enter the password:admin123\n",
            "correct pass\n"
          ]
        }
      ]
    },
    {
      "cell_type": "markdown",
      "source": [
        "## 6. Print the multiples of 7 using while loop stop if value is greater than 100\n"
      ],
      "metadata": {
        "id": "TbWHQAEP9Foy"
      }
    },
    {
      "cell_type": "code",
      "source": [
        "count=0\n",
        "while (count<100):\n",
        "  print(count)\n",
        "  count+=7"
      ],
      "metadata": {
        "colab": {
          "base_uri": "https://localhost:8080/"
        },
        "id": "3lYkjPlw9Hkn",
        "outputId": "3ef2f166-cdae-4a44-b2ab-dc466049d96c"
      },
      "execution_count": null,
      "outputs": [
        {
          "output_type": "stream",
          "name": "stdout",
          "text": [
            "0\n",
            "7\n",
            "14\n",
            "21\n",
            "28\n",
            "35\n",
            "42\n",
            "49\n",
            "56\n",
            "63\n",
            "70\n",
            "77\n",
            "84\n",
            "91\n",
            "98\n"
          ]
        }
      ]
    },
    {
      "cell_type": "markdown",
      "source": [
        "## 7. Give a number, print each digit until zero is found"
      ],
      "metadata": {
        "id": "TcOl6k0A9Nhm"
      }
    },
    {
      "cell_type": "code",
      "source": [
        "y=input(\"enter the number=\")\n",
        "for i in y:\n",
        "    if i==\"0\":\n",
        "      print(\"zero is found\")\n",
        "      break\n",
        "    print(i)"
      ],
      "metadata": {
        "colab": {
          "base_uri": "https://localhost:8080/"
        },
        "id": "bXP-8NJo9Sbc",
        "outputId": "b303f0f9-edc2-452e-851d-38029fd4052a"
      },
      "execution_count": null,
      "outputs": [
        {
          "output_type": "stream",
          "name": "stdout",
          "text": [
            "enter the number=2540978640\n",
            "2\n",
            "5\n",
            "4\n",
            "zero is found\n"
          ]
        }
      ]
    },
    {
      "cell_type": "code",
      "source": [
        "for i in range(1,20):\n",
        "  n=input(\"enter the value =\")\n",
        "  if n==\"0\":\n",
        "    print(\"zero is found\")\n",
        "    break\n",
        "  print(i)\n",
        "3"
      ],
      "metadata": {
        "id": "Sh9ZqPwX9hL3",
        "colab": {
          "base_uri": "https://localhost:8080/"
        },
        "outputId": "d8143406-1f0a-4267-b5ee-cd5c72148004"
      },
      "execution_count": null,
      "outputs": [
        {
          "output_type": "stream",
          "name": "stdout",
          "text": [
            "enter the value =3\n",
            "1\n",
            "enter the value =6\n",
            "2\n",
            "enter the value =9\n",
            "3\n",
            "enter the value =0\n",
            "zero is found\n"
          ]
        }
      ]
    },
    {
      "cell_type": "markdown",
      "source": [
        "#### **Assignment 3**"
      ],
      "metadata": {
        "id": "gOV2DxA6z0cI"
      }
    },
    {
      "cell_type": "markdown",
      "source": [
        "### 1. Take a sentence and reverse the order of its words. Example: \"I love Python\" → \"Python love I\""
      ],
      "metadata": {
        "id": "NSYa3X8X0E8K"
      }
    },
    {
      "cell_type": "code",
      "source": [
        "sentence=\"i love python\"\n",
        "words=sentence.split()\n",
        "words.reverse()\n",
        "reversed_sentence=' '.join(words)\n",
        "print(reversed_sentence)"
      ],
      "metadata": {
        "colab": {
          "base_uri": "https://localhost:8080/"
        },
        "id": "alz43TDe0gSL",
        "outputId": "836ca455-c183-4f5a-f809-2ad458ae65a5"
      },
      "execution_count": null,
      "outputs": [
        {
          "output_type": "stream",
          "name": "stdout",
          "text": [
            "python love i\n"
          ]
        }
      ]
    },
    {
      "cell_type": "markdown",
      "source": [
        "### 2. Given a string, count consonants (non-vowel letters, ignoring case). Example: \"Hello World\" →\n",
        "7 (H, l, l, W, r, l, d)."
      ],
      "metadata": {
        "id": "NiNMKQ7o2O7U"
      }
    },
    {
      "cell_type": "code",
      "source": [
        "x=input(\"enter a string: \")\n",
        "vowels='aeiouAEIOU'\n",
        "consonants=[i for i in x if i.isalpha() and i not in vowels]\n",
        "count=len(consonants)\n",
        "print(f\"{count}({','.join(consonants)})\")\n"
      ],
      "metadata": {
        "colab": {
          "base_uri": "https://localhost:8080/"
        },
        "id": "mWZVnwRw2V7h",
        "outputId": "ba522ab7-8d4f-4440-831e-a4a3df46e14d"
      },
      "execution_count": null,
      "outputs": [
        {
          "output_type": "stream",
          "name": "stdout",
          "text": [
            "enter a string: hello world\n",
            "7(h,l,l,w,r,l,d)\n"
          ]
        }
      ]
    },
    {
      "cell_type": "markdown",
      "source": [
        "### 3.Check if two strings are anagrams (same characters, same frequency, ignoring case).\n",
        "Example: \"Listen\", \"Silent\" → \"Anagram\", \"Hello\", \"World\" → \"Not Anagram\"."
      ],
      "metadata": {
        "id": "Y6cMIMbF4By9"
      }
    },
    {
      "cell_type": "code",
      "source": [
        "s1=\"listen\"\n",
        "s2=\"silent\"\n",
        "s1_sorted=sorted(s1.lower())\n",
        "s2_sorted=sorted(s2.lower())\n",
        "if s1_sorted==s2_sorted:\n",
        "  print(\"anagram\")\n",
        "else:\n",
        "  print(\"not anagram\")\n",
        "\n",
        "\n"
      ],
      "metadata": {
        "colab": {
          "base_uri": "https://localhost:8080/"
        },
        "id": "7bQVIHTY4Hi6",
        "outputId": "e02c85a2-eae5-48e4-bc50-7597f04fe486"
      },
      "execution_count": null,
      "outputs": [
        {
          "output_type": "stream",
          "name": "stdout",
          "text": [
            "anagram\n"
          ]
        }
      ]
    },
    {
      "cell_type": "markdown",
      "source": [
        "### 4. Find the first character in a string that appears only once (case-sensitive). Example: \"swiss\" →\n",
        "\"w\", \"programming\" → \"r\".\n"
      ],
      "metadata": {
        "id": "oYDgRUEd5xaR"
      }
    },
    {
      "cell_type": "code",
      "source": [
        "string=\"swiss\"\n",
        "for ch in string:\n",
        "  if string.count(ch)==1:\n",
        "    print(ch)\n",
        "    break"
      ],
      "metadata": {
        "colab": {
          "base_uri": "https://localhost:8080/"
        },
        "id": "BRcGAN6Y5-Ct",
        "outputId": "9768ed0a-0b48-4a1b-ce1e-2608a2492c47"
      },
      "execution_count": null,
      "outputs": [
        {
          "output_type": "stream",
          "name": "stdout",
          "text": [
            "w\n"
          ]
        }
      ]
    },
    {
      "cell_type": "markdown",
      "source": [
        "### 5.Compress a string by replacing repeated characters with the character and count. Example:\n",
        "\"aaabbc\" → \"a3b2c1\". If compressed string isn’t shorter, return original."
      ],
      "metadata": {
        "id": "LBX0g0BE6WBi"
      }
    },
    {
      "cell_type": "code",
      "source": [
        "s=\"aaabbc\"\n",
        "compressed=\"\"\n",
        "i=0\n",
        "while i<len(s):\n",
        "  count=1\n",
        "  while i+1<len(s) and s[i]==s[i+1]:\n",
        "    count+=1\n",
        "    i+=1\n",
        "  compressed+=s[i]+str(count)\n",
        "  i+=1\n",
        "if len(compressed)<len(s):\n",
        "    print(compressed)\n",
        "else:\n",
        "    print(s)"
      ],
      "metadata": {
        "colab": {
          "base_uri": "https://localhost:8080/"
        },
        "id": "5bot-5cf6iOR",
        "outputId": "cb660d27-af18-4e81-9188-2c8f109124b3"
      },
      "execution_count": null,
      "outputs": [
        {
          "output_type": "stream",
          "name": "stdout",
          "text": [
            "aaabbc\n"
          ]
        }
      ]
    },
    {
      "cell_type": "markdown",
      "source": [
        "### 6.Find the longest substring in a string that is a palindrome (case-sensitive). Example: \"babad\" →\n",
        "\"bab\" (or \"aba\"), \"cbbd\" → \"bb\". If multiple exist, return the first."
      ],
      "metadata": {
        "id": "G7FIBhwx8fyt"
      }
    },
    {
      "cell_type": "code",
      "source": [
        "s=\"babab\"\n",
        "max_len=0\n",
        "result=\"\"\n",
        "for i in range(len(s)):\n",
        "  for j in range(i+1,len(s)+1):\n",
        "    substr=s[i:j]\n",
        "    if substr==substr[::-1] and len(substr)>max_len:\n",
        "      result=substr\n",
        "      max_len=len(substr)\n",
        "      print(result)"
      ],
      "metadata": {
        "colab": {
          "base_uri": "https://localhost:8080/"
        },
        "id": "sV2rWW_y8ovQ",
        "outputId": "5ceed716-67f5-49bb-d2ec-f67f421e81b3"
      },
      "execution_count": null,
      "outputs": [
        {
          "output_type": "stream",
          "name": "stdout",
          "text": [
            "b\n",
            "bab\n",
            "babab\n"
          ]
        }
      ]
    },
    {
      "cell_type": "markdown",
      "source": [
        "### 7.Given a string containing only '(', ')', '{', '}', '[', ']', check if the sequence is valid (properly nested\n",
        "and closed). Example: \"({[]})\" → \"Valid\", \"(]\" → \"Invalid\".\n"
      ],
      "metadata": {
        "id": "I8hMzV9V9rEC"
      }
    },
    {
      "cell_type": "code",
      "source": [
        "s=\"({[]})\"\n",
        "stack=[]\n",
        "mapping={')':'(','}':'{',']':'['}\n",
        "valid=True\n",
        "for ch in s:\n",
        "  if ch in mapping.values():\n",
        "    stack.append(ch)\n",
        "  elif ch in mapping:\n",
        "    if not stack or stack.pop()!=mapping[ch]:\n",
        "      valid=False\n",
        "      break\n",
        "if stack:\n",
        "    valid=False\n",
        "print(\"valid\" if valid else\"invalid\")\n"
      ],
      "metadata": {
        "colab": {
          "base_uri": "https://localhost:8080/"
        },
        "id": "PNb-huQs9yzw",
        "outputId": "36f2fc67-3792-4947-860e-c2aa913f4501"
      },
      "execution_count": null,
      "outputs": [
        {
          "output_type": "stream",
          "name": "stdout",
          "text": [
            "valid\n"
          ]
        }
      ]
    },
    {
      "cell_type": "markdown",
      "source": [
        "### 8. Given a start word, end word, and a list of valid words, find the minimum number of steps to\n",
        "transform the start word to the end word by changing one letter at a time, where each\n",
        "intermediate word must be in the list. All words are same length, lowercase. Example:\n",
        "start=\"hit\", end=\"cog\", wordList=[\"hot\",\"dot\",\"dog\",\"lot\",\"log\",\"cog\"] → 5 (hit → hot → dot → dog →\n",
        "cog). Return 0 if impossible."
      ],
      "metadata": {
        "id": "NF6HNHuQ_uKp"
      }
    },
    {
      "cell_type": "code",
      "source": [
        "from collections import deque\n",
        "\n",
        "start=\"hit\"\n",
        "end=\"cog\"\n",
        "wordList=[\"hot\",\"dot\",\"dog\",\"lot\",\"log\",\"cog\"]\n",
        "wordSet=set(wordList)\n",
        "queue=deque([(start,1)])\n",
        "while queue:\n",
        "  word,steps=queue.popleft()\n",
        "  if word==end:\n",
        "    print(steps)\n",
        "    break\n",
        "  for i in range(len(word)):\n",
        "    for ch in 'abcdefghijklmnopqrstuvwxyz':\n",
        "      next_word=word[:i]+ ch + word[i+1:]\n",
        "      if next_word in wordSet:\n",
        "        wordSet.remove(next_word)\n",
        "        queue.append((next_word,steps+1))\n",
        "else:\n",
        "  print(0)\n",
        "end=\"cog\"\n",
        "wordList=[\"hot\",\"dot\",\"dog\",\"lot\",\"log\",\"cog\"]\n",
        "wordSet=set(wordList)\n",
        "queue=deque([(start,1)])\n",
        "while queue:\n",
        "  word,steps=queue.popleft()\n",
        "  if word==end:\n",
        "    print(steps)\n",
        "    break\n",
        "  for i in range(len(word)):\n",
        "    for ch in 'abcdefghijklmnopqrstuvwxyz':\n",
        "      next_word=word[:i]+ ch + word[i+1:] # Corrected variable name 'c' to 'ch'\n",
        "      if next_word in wordSet:\n",
        "        wordSet.remove(next_word)\n",
        "        queue.append((next_word,steps+1))\n",
        "else:\n",
        "  print(0)\n",
        "\n"
      ],
      "metadata": {
        "colab": {
          "base_uri": "https://localhost:8080/"
        },
        "id": "_W_8g6Vh_0tx",
        "outputId": "f9c3827f-bb9c-4016-fd17-177b325be96e"
      },
      "execution_count": null,
      "outputs": [
        {
          "output_type": "stream",
          "name": "stdout",
          "text": [
            "5\n",
            "5\n"
          ]
        }
      ]
    },
    {
      "cell_type": "markdown",
      "source": [
        "#### **Assignment.4**"
      ],
      "metadata": {
        "id": "8sUXf427SLIZ"
      }
    },
    {
      "cell_type": "markdown",
      "source": [
        "### 1. Create a dictionary of 5 students with their names as keys and marks as values. Print all\n",
        "the keys and values."
      ],
      "metadata": {
        "id": "u8uaGizSSYeP"
      }
    },
    {
      "cell_type": "code",
      "source": [
        "# Creating a dictionary of students with their marks\n",
        "students = {\n",
        "    \"khusi\": 85,\n",
        "    \"sukh\": 92,\n",
        "    \"Amrit\": 78,\n",
        "    \"gur\": 88,\n",
        "    \"prabh\": 95\n",
        "}\n",
        "print(students)\n"
      ],
      "metadata": {
        "id": "vBIndCVmSWBV",
        "colab": {
          "base_uri": "https://localhost:8080/"
        },
        "outputId": "1e713c8f-8f34-4f68-81b0-18206c9bb847"
      },
      "execution_count": null,
      "outputs": [
        {
          "output_type": "stream",
          "name": "stdout",
          "text": [
            "{'khusi': 85, 'sukh': 92, 'Amrit': 78, 'gur': 88, 'prabh': 95}\n"
          ]
        }
      ]
    },
    {
      "cell_type": "markdown",
      "source": [
        "### 2. Write a program to count the frequency of each character in a given string using a\n",
        "dictionary.\n"
      ],
      "metadata": {
        "id": "GFzn0YNfr3t7"
      }
    },
    {
      "cell_type": "code",
      "source": [
        "x=input(\"enter the string=\")\n",
        "frequency={}\n",
        "for i in x:\n",
        "  if i in frequency:\n",
        "    frequency[i]+=1\n",
        "  else:\n",
        "      frequency[i]=1\n",
        "  print(frequency)"
      ],
      "metadata": {
        "colab": {
          "base_uri": "https://localhost:8080/"
        },
        "id": "qKUaD2ocsAto",
        "outputId": "a5c06464-cd02-4dc1-85fb-09845069caf3"
      },
      "execution_count": null,
      "outputs": [
        {
          "output_type": "stream",
          "name": "stdout",
          "text": [
            "enter the string=\"hello world\"\n",
            "{'\"': 1}\n",
            "{'\"': 1, 'h': 1}\n",
            "{'\"': 1, 'h': 1, 'e': 1}\n",
            "{'\"': 1, 'h': 1, 'e': 1, 'l': 1}\n",
            "{'\"': 1, 'h': 1, 'e': 1, 'l': 2}\n",
            "{'\"': 1, 'h': 1, 'e': 1, 'l': 2, 'o': 1}\n",
            "{'\"': 1, 'h': 1, 'e': 1, 'l': 2, 'o': 1, ' ': 1}\n",
            "{'\"': 1, 'h': 1, 'e': 1, 'l': 2, 'o': 1, ' ': 1, 'w': 1}\n",
            "{'\"': 1, 'h': 1, 'e': 1, 'l': 2, 'o': 2, ' ': 1, 'w': 1}\n",
            "{'\"': 1, 'h': 1, 'e': 1, 'l': 2, 'o': 2, ' ': 1, 'w': 1, 'r': 1}\n",
            "{'\"': 1, 'h': 1, 'e': 1, 'l': 3, 'o': 2, ' ': 1, 'w': 1, 'r': 1}\n",
            "{'\"': 1, 'h': 1, 'e': 1, 'l': 3, 'o': 2, ' ': 1, 'w': 1, 'r': 1, 'd': 1}\n",
            "{'\"': 2, 'h': 1, 'e': 1, 'l': 3, 'o': 2, ' ': 1, 'w': 1, 'r': 1, 'd': 1}\n"
          ]
        }
      ]
    },
    {
      "cell_type": "markdown",
      "source": [
        "### 3. Create a dictionary with names as keys and ages as values. Print the name(s) of the oldest\n",
        "person(s).\n",
        "\n"
      ],
      "metadata": {
        "id": "H_47oTi2uo6t"
      }
    },
    {
      "cell_type": "code",
      "source": [
        "dict_ages={\"sam\":21, \"khushi\":18.5,\"sukh\":37,\"sarb\":40,\"jagg\":16.5}\n",
        "oldest_people=max(dict_ages.values())\n",
        "print(\"oldest people is:\")\n",
        "for i,j in dict_ages.items():\n",
        " if j==oldest_people:\n",
        "  print(i)\n"
      ],
      "metadata": {
        "colab": {
          "base_uri": "https://localhost:8080/"
        },
        "id": "qZES3C77ut-L",
        "outputId": "0931626e-7cc5-4874-b264-c218eeb4bf7c"
      },
      "execution_count": null,
      "outputs": [
        {
          "output_type": "stream",
          "name": "stdout",
          "text": [
            "oldest people is:\n",
            "sarb\n"
          ]
        }
      ]
    },
    {
      "cell_type": "markdown",
      "source": [
        "### 4. Merge two dictionaries and print the merged dictionary."
      ],
      "metadata": {
        "id": "zM1BeplOAeb-"
      }
    },
    {
      "cell_type": "code",
      "source": [
        "dict1={'sam':21,'khushi':18.5,'sukh':37,'sarb':40,'jagg':16.5}\n",
        "dict2={'s1':'s','k1':'k','s2':'s','s3':'s','j1':'j'}\n",
        "print(\"dict1:\",dict1)\n",
        "print(\"dict2:\",dict2)\n",
        "dict1.update(dict2)\n",
        "print(\"after merging:\",dict1)"
      ],
      "metadata": {
        "colab": {
          "base_uri": "https://localhost:8080/"
        },
        "id": "2XFwQ3_AAjWR",
        "outputId": "779977a8-1a8a-497f-a336-3d5c8c35ecdd"
      },
      "execution_count": null,
      "outputs": [
        {
          "output_type": "stream",
          "name": "stdout",
          "text": [
            "dict1: {'sam': 21, 'khushi': 18.5, 'sukh': 37, 'sarb': 40, 'jagg': 16.5}\n",
            "dict2: {'s1': 's', 'k1': 'k', 's2': 's', 's3': 's', 'j1': 'j'}\n",
            "after merging: {'sam': 21, 'khushi': 18.5, 'sukh': 37, 'sarb': 40, 'jagg': 16.5, 's1': 's', 'k1': 'k', 's2': 's', 's3': 's', 'j1': 'j'}\n"
          ]
        }
      ]
    },
    {
      "cell_type": "markdown",
      "source": [
        "### 5. Create a dictionary where the keys are numbers between 1 and 10, and the values are\n",
        "their squares"
      ],
      "metadata": {
        "id": "jfK47HF9CxhP"
      }
    },
    {
      "cell_type": "code",
      "source": [
        "dict={}\n",
        "for i in range(1,11):\n",
        "  dict[i]=i*i\n",
        "\n",
        "print(dict)"
      ],
      "metadata": {
        "colab": {
          "base_uri": "https://localhost:8080/"
        },
        "id": "eaWrXSgyC-CZ",
        "outputId": "9be16377-b4a9-44be-92e8-cef1ccab59a9"
      },
      "execution_count": null,
      "outputs": [
        {
          "output_type": "stream",
          "name": "stdout",
          "text": [
            "{1: 1, 2: 4, 3: 9, 4: 16, 5: 25, 6: 36, 7: 49, 8: 64, 9: 81, 10: 100}\n"
          ]
        }
      ]
    },
    {
      "cell_type": "markdown",
      "source": [
        "### 6. Write a program that inverts a dictionary (i.e., swaps keys and values). Assume all values\n",
        "are unique."
      ],
      "metadata": {
        "id": "Mb4Rf3TRDlR_"
      }
    },
    {
      "cell_type": "code",
      "source": [
        "dict={'a':1,'b':2,'c':3,'d':4,'e':5}\n",
        "\n",
        "dict_i={}\n",
        "\n",
        "for key,value in dict.items():\n",
        "  dict_i[value]=key\n",
        "\n",
        "print(\"initial:\",dict)\n",
        "print(\"invrted:\",dict_i)"
      ],
      "metadata": {
        "colab": {
          "base_uri": "https://localhost:8080/"
        },
        "id": "kPaSdHAmDqLp",
        "outputId": "fb7253b7-1803-4951-aa56-f0e2f48329f2"
      },
      "execution_count": null,
      "outputs": [
        {
          "output_type": "stream",
          "name": "stdout",
          "text": [
            "initial: {'a': 1, 'b': 2, 'c': 3, 'd': 4, 'e': 5}\n",
            "invrted: {1: 'a', 2: 'b', 3: 'c', 4: 'd', 5: 'e'}\n"
          ]
        }
      ]
    },
    {
      "cell_type": "markdown",
      "source": [
        "### 7. Given a nested dictionary of students and their subject-wise marks, calculate and print\n",
        "the average marks for each student.\n"
      ],
      "metadata": {
        "id": "5mXguV9mEvGy"
      }
    },
    {
      "cell_type": "code",
      "source": [
        "dict_students={'sam':{'maths':85,'english':90,'science':85,'punjabi':96},\n",
        "              'khushi':{'maths':99,'english':99,'science':98,'punjabi':98},\n",
        "              'sukh':{'maths':85,'english':95,'science':90,'punjabi':96},\n",
        "              'deepu':{'maths':88,'english':92,'science':85,'punjabi':96}}\n",
        "\n",
        "for name,marks in dict_students.items():\n",
        "  total_marks=sum(marks.values())\n",
        "  avg_marks=total_marks/len(marks)\n",
        "  print(name,avg_marks)\n",
        "\n",
        "for name,marks in dict_students.items():\n",
        "  total_marks=sum(marks.values())\n",
        "  avg_marks=total_marks/len(marks)\n",
        "  print(name,avg_marks)\n"
      ],
      "metadata": {
        "colab": {
          "base_uri": "https://localhost:8080/"
        },
        "id": "dVr8nAr3E88t",
        "outputId": "a0672e45-4cd7-4a8c-925a-19caaa3ca695"
      },
      "execution_count": null,
      "outputs": [
        {
          "output_type": "stream",
          "name": "stdout",
          "text": [
            "sam 89.0\n",
            "khushi 98.5\n",
            "sukh 91.5\n",
            "deepu 90.25\n",
            "sam 89.0\n",
            "khushi 98.5\n",
            "sukh 91.5\n",
            "deepu 90.25\n"
          ]
        }
      ]
    },
    {
      "cell_type": "markdown",
      "source": [
        "### 8. Write a program to group words by their length from a list using a dictionary."
      ],
      "metadata": {
        "id": "-_E4TDwDIAfU"
      }
    },
    {
      "cell_type": "code",
      "source": [
        "a=input(\"enter the word seperated by space(without comma): \")\n",
        "\n",
        "\n",
        "word=a.split()\n",
        "length={}\n",
        "for i in word:\n",
        "  l=len(i)\n",
        "  if l in length:\n",
        "    length[l].append(i)\n",
        "  else:\n",
        "    length[l]=[i]\n",
        "print(length)\n",
        "\n"
      ],
      "metadata": {
        "colab": {
          "base_uri": "https://localhost:8080/"
        },
        "id": "ry0WWtf8IMFM",
        "outputId": "e3d22374-888f-41ab-ecc2-9789998d943d"
      },
      "execution_count": null,
      "outputs": [
        {
          "output_type": "stream",
          "name": "stdout",
          "text": [
            "enter the word seperated by space(without comma): apple banana watermelon\n",
            "{5: ['apple'], 6: ['banana'], 10: ['watermelon']}\n"
          ]
        }
      ]
    },
    {
      "cell_type": "markdown",
      "source": [
        "### 10. Create a program that takes a list of tuples (name, score) and builds a dictionary\n",
        "where each name is a key, and the value is a list of all their scores. Then calculate and print\n",
        "each person's average score."
      ],
      "metadata": {
        "id": "-1-Sm6sKKT4d"
      }
    },
    {
      "cell_type": "code",
      "source": [
        "people=[('sam',85),\n",
        "        ('khushi',90), # Added missing comma\n",
        "        ('sukh',98),   # Added missing comma\n",
        "        ('sarb',92),   # Added missing comma\n",
        "        ('jagg',88)]\n",
        "# Removed the incorrect indentation from the line below\n",
        "person_scores={}\n",
        "for name,score in people:\n",
        "  if name in person_scores: # Changed variable name from dict to person_scores\n",
        "    person_scores[name].append(score) # Changed variable name from dict to person_scores\n",
        "  else:\n",
        "    person_scores[name]=[score] # Changed variable name from dict to person_scores\n",
        "\n",
        "for name,scores_list in person_scores.items(): # Changed variable name from dict to person_scores and score to scores_list\n",
        "    avg_score=sum(scores_list)/len(scores_list) # Changed variable name from score to scores_list\n",
        "    print(name,avg_score)\n",
        "\n"
      ],
      "metadata": {
        "colab": {
          "base_uri": "https://localhost:8080/"
        },
        "id": "VOWuQP41KaS7",
        "outputId": "53951c2b-24de-45d5-a1b3-0cbd7c300dcd"
      },
      "execution_count": null,
      "outputs": [
        {
          "output_type": "stream",
          "name": "stdout",
          "text": [
            "sam 85.0\n",
            "khushi 90.0\n",
            "sukh 98.0\n",
            "sarb 92.0\n",
            "jagg 88.0\n"
          ]
        }
      ]
    },
    {
      "cell_type": "markdown",
      "source": [
        "### **Assignment.5**"
      ],
      "metadata": {
        "id": "4DVBBnaCsVIg"
      }
    },
    {
      "cell_type": "markdown",
      "source": [
        "### 1.WAP to make a pyramid."
      ],
      "metadata": {
        "id": "lio6FlQNshuY"
      }
    },
    {
      "cell_type": "code",
      "source": [
        "def pyramid(n,current=1):\n",
        "    if current > n :\n",
        "        return\n",
        "    spaces=' ' * (n-current)\n",
        "    stars='*'*(2*current-1)\n",
        "    print(spaces+stars)\n",
        "    pyramid(n,current+1)\n",
        "n=int(input(\"enter no.of lines:\"))\n",
        "pyramid(n)"
      ],
      "metadata": {
        "colab": {
          "base_uri": "https://localhost:8080/"
        },
        "id": "kzI1fFXttHOd",
        "outputId": "75e640eb-6695-4249-d23b-a3c7069e9367"
      },
      "execution_count": null,
      "outputs": [
        {
          "output_type": "stream",
          "name": "stdout",
          "text": [
            "enter no.of lines:5\n",
            "    *\n",
            "   ***\n",
            "  *****\n",
            " *******\n",
            "*********\n"
          ]
        }
      ]
    },
    {
      "cell_type": "markdown",
      "source": [
        "### 2.WAP to generate a pattern like star.\n",
        "### *\n",
        "### **\n",
        "### ***\n",
        "### ****\n"
      ],
      "metadata": {
        "id": "HEbzmzLlwSi2"
      }
    },
    {
      "cell_type": "code",
      "source": [
        "def pattern(n,current=1):\n",
        "  if (current > n):\n",
        "   return\n",
        "  print('*'* current)\n",
        "  pattern(n,current+1)\n",
        "n=int(input(\"enter no.of lines:\"))\n",
        "print(pattern(n))"
      ],
      "metadata": {
        "colab": {
          "base_uri": "https://localhost:8080/"
        },
        "id": "s9FP_OeVwoUh",
        "outputId": "21ce35be-ac66-48c7-f9e9-1e6382494308"
      },
      "execution_count": null,
      "outputs": [
        {
          "output_type": "stream",
          "name": "stdout",
          "text": [
            "enter no.of lines:4\n",
            "*\n",
            "**\n",
            "***\n",
            "****\n",
            "None\n"
          ]
        }
      ]
    },
    {
      "cell_type": "markdown",
      "source": [
        "### 3.WAP to draw square pattern like star."
      ],
      "metadata": {
        "id": "xurEKKiA3xp8"
      }
    },
    {
      "cell_type": "code",
      "source": [
        "def square_pattern(n):\n",
        "  for i in range(n):\n",
        "    print(\" * \" * n)\n",
        "\n",
        "size=int(input(\"enter the size of square:\"))\n",
        "square_pattern(size)"
      ],
      "metadata": {
        "colab": {
          "base_uri": "https://localhost:8080/"
        },
        "id": "W7cyPNWr4VON",
        "outputId": "7d51dc04-2c0f-493b-cf9a-91d795b66b89"
      },
      "execution_count": null,
      "outputs": [
        {
          "output_type": "stream",
          "name": "stdout",
          "text": [
            "enter the size of square:5\n",
            " *  *  *  *  * \n",
            " *  *  *  *  * \n",
            " *  *  *  *  * \n",
            " *  *  *  *  * \n",
            " *  *  *  *  * \n"
          ]
        }
      ]
    },
    {
      "cell_type": "markdown",
      "source": [
        "### 4.WAP to draw a circular pattern like star."
      ],
      "metadata": {
        "id": "IQdbgeeVBOrt"
      }
    },
    {
      "cell_type": "code",
      "source": [
        "import math\n",
        "radius=int(input(\"enter the radius of circle:\"))\n",
        "for i in range(-radius,radius+1):\n",
        "  for j in range(-radius,radius+1):\n",
        "    if abs(i**2+j**2-radius**2)<radius:\n",
        "      print(\"*\",end=\"\")\n",
        "    else:\n",
        "      print(\" \",end=\"\")\n",
        "  print()"
      ],
      "metadata": {
        "colab": {
          "base_uri": "https://localhost:8080/"
        },
        "id": "rdL4Loo3BZi4",
        "outputId": "57a77f42-033b-405e-8f63-d3fc01ba93d3"
      },
      "execution_count": null,
      "outputs": [
        {
          "output_type": "stream",
          "name": "stdout",
          "text": [
            "enter the radius of circle:6\n",
            "    *****    \n",
            "  **     **  \n",
            " **       ** \n",
            " *         * \n",
            "*           *\n",
            "*           *\n",
            "*           *\n",
            "*           *\n",
            "*           *\n",
            " *         * \n",
            " **       ** \n",
            "  **     **  \n",
            "    *****    \n"
          ]
        }
      ]
    },
    {
      "cell_type": "markdown",
      "source": [
        "### 5.WAP to draw a rectangular pattern like star."
      ],
      "metadata": {
        "id": "4q0HFNZEEgR1"
      }
    },
    {
      "cell_type": "code",
      "source": [
        "rows=int(input(\"enter the number of rows:\"))\n",
        "colms=int(input(\"enter the number of colms:\"))\n",
        "for i in range(rows):\n",
        "  print(\"*\"*colms)"
      ],
      "metadata": {
        "colab": {
          "base_uri": "https://localhost:8080/"
        },
        "id": "99rzq7t9E6A9",
        "outputId": "d2543294-de27-4752-edd9-7530a0ab1a91"
      },
      "execution_count": null,
      "outputs": [
        {
          "output_type": "stream",
          "name": "stdout",
          "text": [
            "enter the number of rows:5\n",
            "enter the number of colms:7\n",
            "*******\n",
            "*******\n",
            "*******\n",
            "*******\n",
            "*******\n"
          ]
        }
      ]
    },
    {
      "cell_type": "markdown",
      "source": [
        "### **Assignment.6**"
      ],
      "metadata": {
        "id": "-mmGGcZ4M6NP"
      }
    },
    {
      "cell_type": "markdown",
      "source": [
        "### 1.write a program to create a tuple with different data types and print its type."
      ],
      "metadata": {
        "id": "ZyFyUfjMsgiC"
      }
    },
    {
      "cell_type": "code",
      "source": [
        "data=('hello world',13,1.3,True)\n",
        "print(data)\n",
        "print(type(data))"
      ],
      "metadata": {
        "id": "81BrnSb3NJ5i",
        "colab": {
          "base_uri": "https://localhost:8080/"
        },
        "outputId": "d0c252a2-3bc2-428f-cdf7-2c139b8e7210"
      },
      "execution_count": null,
      "outputs": [
        {
          "output_type": "stream",
          "name": "stdout",
          "text": [
            "('hello world', 13, 1.3, True)\n",
            "<class 'tuple'>\n"
          ]
        }
      ]
    },
    {
      "cell_type": "markdown",
      "source": [
        "### 2.Given a tuple t=(10,20,30,40,50),write a program to access the second last element."
      ],
      "metadata": {
        "id": "D0-PW67CtlH5"
      }
    },
    {
      "cell_type": "code",
      "source": [
        "t=(10,20,30,40,50)\n",
        "second_last_element=t[-2]\n",
        "print(\"second last element of given tuple is:\",second_last_element)"
      ],
      "metadata": {
        "colab": {
          "base_uri": "https://localhost:8080/"
        },
        "id": "oQiwWCtLuI8K",
        "outputId": "174d0a6f-1b3a-4772-bed8-500c87f297eb"
      },
      "execution_count": null,
      "outputs": [
        {
          "output_type": "stream",
          "name": "stdout",
          "text": [
            "second last element of given tuple is: 40\n"
          ]
        }
      ]
    },
    {
      "cell_type": "markdown",
      "source": [
        "### 3.. Write a program to count the number of times a given element appears in a tuple."
      ],
      "metadata": {
        "id": "jZT0Bz-qGaRk"
      }
    },
    {
      "cell_type": "code",
      "source": [
        "tuple=(1,2,5,6,5,3,5,8,4,1,9,1,2,0,6,3,4,14)\n",
        "t=tuple.count(5)\n",
        "print(t)"
      ],
      "metadata": {
        "colab": {
          "base_uri": "https://localhost:8080/"
        },
        "id": "KfIG3G0IHdtv",
        "outputId": "cf031610-e886-4130-ac79-4333f3d3f876"
      },
      "execution_count": null,
      "outputs": [
        {
          "output_type": "stream",
          "name": "stdout",
          "text": [
            "3\n"
          ]
        }
      ]
    },
    {
      "cell_type": "markdown",
      "source": [
        "###  4. Write a program to convert a tuple of strings into a single string. Example: ('Python', 'is', 'fun') -->\n",
        " 'Python is fun'"
      ],
      "metadata": {
        "id": "ifD-RQVzIeiV"
      }
    },
    {
      "cell_type": "code",
      "source": [
        "tuple_of_strings=('python','is','fun')\n",
        "single_string=' '.join(tuple_of_strings)\n",
        "print(single_string)"
      ],
      "metadata": {
        "colab": {
          "base_uri": "https://localhost:8080/"
        },
        "id": "MZSFUSQUIksk",
        "outputId": "675bf440-5ed7-452c-8710-c9628625f10d"
      },
      "execution_count": null,
      "outputs": [
        {
          "output_type": "stream",
          "name": "stdout",
          "text": [
            "python is fun\n"
          ]
        }
      ]
    },
    {
      "cell_type": "markdown",
      "source": [
        "###  5. Write a Python program to find the index of an element in a tuple."
      ],
      "metadata": {
        "id": "isK8Cs6xJs1R"
      }
    },
    {
      "cell_type": "code",
      "source": [
        "my_tuple=(1,2,3,4,5,6,7,8,9,10)\n",
        "t=my_tuple.index(4)\n",
        "print(t)"
      ],
      "metadata": {
        "colab": {
          "base_uri": "https://localhost:8080/"
        },
        "id": "oPCWWw6rJyYt",
        "outputId": "ef0e62f8-a9d7-4eed-cb6e-7dc2ca97e42e"
      },
      "execution_count": null,
      "outputs": [
        {
          "output_type": "stream",
          "name": "stdout",
          "text": [
            "3\n"
          ]
        }
      ]
    },
    {
      "cell_type": "markdown",
      "source": [
        "###  Set Questions:\n",
        " 6. Write a Python program to create two sets and perform union, intersection, and difference\n",
        " operations."
      ],
      "metadata": {
        "id": "vhodlOMjKMNR"
      }
    },
    {
      "cell_type": "code",
      "source": [
        "set1={10,20,30,40,50}\n",
        "set2={10,40,30,55,80}\n",
        "union=set1.union(set2)\n",
        "print(\"union:\",union)\n",
        "intersection=set1.intersection(set2)\n",
        "print(\"intersection:\",intersection)\n",
        "difference=set1.difference(set2)\n",
        "print(\"difference:\",difference)"
      ],
      "metadata": {
        "colab": {
          "base_uri": "https://localhost:8080/"
        },
        "id": "KJDlgU9AKRt-",
        "outputId": "3cd832d4-da41-4260-d335-41415ece9dda"
      },
      "execution_count": null,
      "outputs": [
        {
          "output_type": "stream",
          "name": "stdout",
          "text": [
            "union: {40, 10, 80, 50, 20, 55, 30}\n",
            "intersection: {40, 10, 30}\n",
            "difference: {50, 20}\n"
          ]
        }
      ]
    },
    {
      "cell_type": "markdown",
      "source": [
        "###  7. Write a program to check if a given element is present in a set or not."
      ],
      "metadata": {
        "id": "4Z2Blpa9LQUi"
      }
    },
    {
      "cell_type": "code",
      "source": [
        "set1={10,20,30,40,50}\n",
        "element=int(input(\"enter the element\"))\n",
        "if element in set1:\n",
        "  print(\"element is present in set1\")\n",
        "else:\n",
        "  print(\"element is not present in set1\")"
      ],
      "metadata": {
        "colab": {
          "base_uri": "https://localhost:8080/"
        },
        "id": "PWobkDTeLUlU",
        "outputId": "9fd4b347-964f-4a7d-b5af-2dac8bf9dfae"
      },
      "execution_count": null,
      "outputs": [
        {
          "output_type": "stream",
          "name": "stdout",
          "text": [
            "enter the element66\n",
            "element is not present in set1\n"
          ]
        }
      ]
    },
    {
      "cell_type": "markdown",
      "source": [
        "###  8. Write a program to remove duplicate elements from a list using a set."
      ],
      "metadata": {
        "id": "HPDYCroBMA_H"
      }
    },
    {
      "cell_type": "code",
      "source": [
        "my_list=[10,20,40,80,10,20,30,50,60]\n",
        "unique=list(set(my_list))\n",
        "print(unique)"
      ],
      "metadata": {
        "id": "op6KA8dHPqqZ",
        "colab": {
          "base_uri": "https://localhost:8080/"
        },
        "outputId": "d6570f83-562e-4741-c7a4-4a4a4a068776"
      },
      "execution_count": null,
      "outputs": [
        {
          "output_type": "stream",
          "name": "stdout",
          "text": [
            "[40, 10, 80, 50, 20, 60, 30]\n"
          ]
        }
      ]
    },
    {
      "cell_type": "markdown",
      "source": [
        "###  9. Write a Python program to find the symmetric difference between two sets.\n"
      ],
      "metadata": {
        "id": "6i-p4q9iPr2q"
      }
    },
    {
      "cell_type": "code",
      "source": [
        "set1={'blue','black','green','grey'}\n",
        "set2={'orange','grey','black','pink'}\n",
        "symmetric_difference=set1.symmetric_difference(set2)\n",
        "print(symmetric_difference)"
      ],
      "metadata": {
        "id": "CxkJxNxXPxNk",
        "colab": {
          "base_uri": "https://localhost:8080/"
        },
        "outputId": "a158b028-10b1-44d5-bddf-5095ac1722da"
      },
      "execution_count": null,
      "outputs": [
        {
          "output_type": "stream",
          "name": "stdout",
          "text": [
            "{'green', 'pink', 'orange', 'blue'}\n"
          ]
        }
      ]
    },
    {
      "cell_type": "markdown",
      "source": [
        "###  10. Given a list of numbers, write a Python program to find all unique elements using sets."
      ],
      "metadata": {
        "id": "8zw1q3mbvsyO"
      }
    },
    {
      "cell_type": "code",
      "source": [
        "list=[2,9,8,4,5,6,8,9,10,4,1,2,3,4,5,6,7,8,9,10]\n",
        "unique=set(list)\n",
        "print(\"unique elements:\",unique)"
      ],
      "metadata": {
        "colab": {
          "base_uri": "https://localhost:8080/"
        },
        "id": "ON3dcFtVvy_t",
        "outputId": "42320365-e3d1-4315-b5ea-ce0ab0e92ced"
      },
      "execution_count": null,
      "outputs": [
        {
          "output_type": "stream",
          "name": "stdout",
          "text": [
            "unique elements: {1, 2, 3, 4, 5, 6, 7, 8, 9, 10}\n"
          ]
        }
      ]
    },
    {
      "cell_type": "markdown",
      "source": [
        "### **Assignment.7**"
      ],
      "metadata": {
        "id": "T9tkpMnow0Dm"
      }
    },
    {
      "cell_type": "markdown",
      "source": [
        "###  1. Write a function to find the factorial of a number using recursion."
      ],
      "metadata": {
        "id": "U7SWX0NQw7pF"
      }
    },
    {
      "cell_type": "code",
      "source": [
        "def factorial(n):\n",
        "  if n<0:\n",
        "      return \"facorial is not defined for negative numbers\"\n",
        "  elif n==0 or n==1:\n",
        "      return 1\n",
        "  else:\n",
        "      result=1\n",
        "      for i in range(2,n+1):\n",
        "          result*=i\n",
        "      return result\n",
        "n=int(input(\"enter the number:\"))\n",
        "print(factorial(n))\n"
      ],
      "metadata": {
        "colab": {
          "base_uri": "https://localhost:8080/"
        },
        "id": "uJFPG5dSw68j",
        "outputId": "3807f9eb-0653-46a0-fcb5-8eb7d5700460"
      },
      "execution_count": null,
      "outputs": [
        {
          "output_type": "stream",
          "name": "stdout",
          "text": [
            "enter the number:6\n",
            "720\n"
          ]
        }
      ]
    },
    {
      "cell_type": "markdown",
      "source": [
        "###  2. Write a function that checks whether a number is prime or not."
      ],
      "metadata": {
        "id": "hwf1yl9-yRv9"
      }
    },
    {
      "cell_type": "code",
      "source": [
        "def is_prime(n):\n",
        "    if n<=1:\n",
        "        return False\n",
        "    for i in range(2,int(n**0.5+1)):\n",
        "        if n%i==0:\n",
        "            return False\n",
        "    return True\n",
        "n=int(input(\"enter the number:\"))\n",
        "print(is_prime(n))"
      ],
      "metadata": {
        "colab": {
          "base_uri": "https://localhost:8080/"
        },
        "id": "64hmP8NwyiN_",
        "outputId": "ce1670bb-9eb7-4574-8b45-c788f1ea7582"
      },
      "execution_count": null,
      "outputs": [
        {
          "output_type": "stream",
          "name": "stdout",
          "text": [
            "enter the number:10\n",
            "False\n"
          ]
        }
      ]
    },
    {
      "cell_type": "markdown",
      "source": [
        "###  3. Create a function that takes a string as input and returns the number of vowels in it."
      ],
      "metadata": {
        "id": "pZEezDkd0t_y"
      }
    },
    {
      "cell_type": "code",
      "source": [
        "def count_vowels(s):\n",
        "  vowels='aeiouAEIOU'\n",
        "  count=0\n",
        "  for char in s:\n",
        "    if char in vowels:\n",
        "      count+=1\n",
        "  return count\n",
        "x=input(\"enter the string:\")\n",
        "print(count_vowels(x))"
      ],
      "metadata": {
        "colab": {
          "base_uri": "https://localhost:8080/"
        },
        "id": "fU0Y7gf10ycC",
        "outputId": "6ea5a108-41f0-45f8-ed48-ef2bb21982df"
      },
      "execution_count": null,
      "outputs": [
        {
          "output_type": "stream",
          "name": "stdout",
          "text": [
            "enter the string:hello world\n",
            "3\n"
          ]
        }
      ]
    },
    {
      "cell_type": "markdown",
      "source": [
        "###  4. Write a function that accepts a list of numbers and returns the maximum and minimum values."
      ],
      "metadata": {
        "id": "idoizWhz3hOD"
      }
    },
    {
      "cell_type": "code",
      "source": [
        "def max_min(number):\n",
        "  h=max(number)\n",
        "  l=min(number)\n",
        "  return h,l\n",
        "s=list(map(int,input(\"enter the number:\").split(',')))\n",
        "h,l=max_min(s)\n",
        "print(\"maximum value is:\",h)\n",
        "print(\"minimum value is:\",l)\n"
      ],
      "metadata": {
        "colab": {
          "base_uri": "https://localhost:8080/"
        },
        "id": "t1NC_akS3mGf",
        "outputId": "f4d6917b-ae0b-46da-d530-632ba25b71dc"
      },
      "execution_count": null,
      "outputs": [
        {
          "output_type": "stream",
          "name": "stdout",
          "text": [
            "enter the number:1,2,3,5,10,41,15,26,0\n",
            "maximum value is: 41\n",
            "minimum value is: 0\n"
          ]
        }
      ]
    },
    {
      "cell_type": "markdown",
      "source": [
        "###  5. Write a Python function to calculate the nth Fibonacci number using recursion.\n"
      ],
      "metadata": {
        "id": "Xr-65aI-61XZ"
      }
    },
    {
      "cell_type": "code",
      "source": [
        "def fibonacci(f):\n",
        "  if f<=0:\n",
        "    return \"enter the positive number\"\n",
        "  elif f==1:\n",
        "    return 0\n",
        "  elif f==2:\n",
        "    return 1\n",
        "  else: # Indent the rest of the code to be part of the else block\n",
        "    a,b=0,1\n",
        "    for _ in range (3, f): # Changed range upper limit to f as range is exclusive\n",
        "      a,b=b,a+b\n",
        "    return b\n",
        "x=int(input(\"enter the number:\"))\n",
        "print(fibonacci(x))"
      ],
      "metadata": {
        "colab": {
          "base_uri": "https://localhost:8080/"
        },
        "id": "RMdkNQHv66Qf",
        "outputId": "738418a0-fa20-44ef-d33f-d466c3e91504"
      },
      "execution_count": null,
      "outputs": [
        {
          "output_type": "stream",
          "name": "stdout",
          "text": [
            "enter the number:13\n",
            "89\n"
          ]
        }
      ]
    },
    {
      "cell_type": "markdown",
      "source": [
        "###  6. Create a function that accepts two numbers and returns their greatest common divisor (GCD)."
      ],
      "metadata": {
        "id": "o9SaV4op9NZB"
      }
    },
    {
      "cell_type": "code",
      "source": [
        "def number(a,b):\n",
        "  while b !=0:\n",
        "    a,b=b,a%b\n",
        "  return a\n"
      ],
      "metadata": {
        "id": "hnLRagpL9SBV"
      },
      "execution_count": null,
      "outputs": []
    },
    {
      "cell_type": "markdown",
      "source": [
        "### **Assignment.11**"
      ],
      "metadata": {
        "id": "P-NmNv3A4Xgk"
      }
    },
    {
      "cell_type": "markdown",
      "source": [
        "### 1. Load the dataset and display the first 10 rows."
      ],
      "metadata": {
        "id": "M8bnI3vI4lP8"
      }
    },
    {
      "cell_type": "code",
      "source": [
        "import pandas as pd\n",
        "assignment11 = pd.read_csv('assignment11')"
      ],
      "metadata": {
        "id": "phT3qKjI4kHu",
        "colab": {
          "base_uri": "https://localhost:8080/",
          "height": 315
        },
        "outputId": "2d9d9e3c-83d1-4dd3-a525-347591a6d416"
      },
      "execution_count": null,
      "outputs": [
        {
          "output_type": "error",
          "ename": "FileNotFoundError",
          "evalue": "[Errno 2] No such file or directory: 'assignment11'",
          "traceback": [
            "\u001b[0;31m---------------------------------------------------------------------------\u001b[0m",
            "\u001b[0;31mFileNotFoundError\u001b[0m                         Traceback (most recent call last)",
            "\u001b[0;32m/tmp/ipython-input-3-1734960232.py\u001b[0m in \u001b[0;36m<cell line: 0>\u001b[0;34m()\u001b[0m\n\u001b[1;32m      1\u001b[0m \u001b[0;32mimport\u001b[0m \u001b[0mpandas\u001b[0m \u001b[0;32mas\u001b[0m \u001b[0mpd\u001b[0m\u001b[0;34m\u001b[0m\u001b[0;34m\u001b[0m\u001b[0m\n\u001b[0;32m----> 2\u001b[0;31m \u001b[0massignment11\u001b[0m \u001b[0;34m=\u001b[0m \u001b[0mpd\u001b[0m\u001b[0;34m.\u001b[0m\u001b[0mread_csv\u001b[0m\u001b[0;34m(\u001b[0m\u001b[0;34m'assignment11'\u001b[0m\u001b[0;34m)\u001b[0m\u001b[0;34m\u001b[0m\u001b[0;34m\u001b[0m\u001b[0m\n\u001b[0m",
            "\u001b[0;32m/usr/local/lib/python3.11/dist-packages/pandas/io/parsers/readers.py\u001b[0m in \u001b[0;36mread_csv\u001b[0;34m(filepath_or_buffer, sep, delimiter, header, names, index_col, usecols, dtype, engine, converters, true_values, false_values, skipinitialspace, skiprows, skipfooter, nrows, na_values, keep_default_na, na_filter, verbose, skip_blank_lines, parse_dates, infer_datetime_format, keep_date_col, date_parser, date_format, dayfirst, cache_dates, iterator, chunksize, compression, thousands, decimal, lineterminator, quotechar, quoting, doublequote, escapechar, comment, encoding, encoding_errors, dialect, on_bad_lines, delim_whitespace, low_memory, memory_map, float_precision, storage_options, dtype_backend)\u001b[0m\n\u001b[1;32m   1024\u001b[0m     \u001b[0mkwds\u001b[0m\u001b[0;34m.\u001b[0m\u001b[0mupdate\u001b[0m\u001b[0;34m(\u001b[0m\u001b[0mkwds_defaults\u001b[0m\u001b[0;34m)\u001b[0m\u001b[0;34m\u001b[0m\u001b[0;34m\u001b[0m\u001b[0m\n\u001b[1;32m   1025\u001b[0m \u001b[0;34m\u001b[0m\u001b[0m\n\u001b[0;32m-> 1026\u001b[0;31m     \u001b[0;32mreturn\u001b[0m \u001b[0m_read\u001b[0m\u001b[0;34m(\u001b[0m\u001b[0mfilepath_or_buffer\u001b[0m\u001b[0;34m,\u001b[0m \u001b[0mkwds\u001b[0m\u001b[0;34m)\u001b[0m\u001b[0;34m\u001b[0m\u001b[0;34m\u001b[0m\u001b[0m\n\u001b[0m\u001b[1;32m   1027\u001b[0m \u001b[0;34m\u001b[0m\u001b[0m\n\u001b[1;32m   1028\u001b[0m \u001b[0;34m\u001b[0m\u001b[0m\n",
            "\u001b[0;32m/usr/local/lib/python3.11/dist-packages/pandas/io/parsers/readers.py\u001b[0m in \u001b[0;36m_read\u001b[0;34m(filepath_or_buffer, kwds)\u001b[0m\n\u001b[1;32m    618\u001b[0m \u001b[0;34m\u001b[0m\u001b[0m\n\u001b[1;32m    619\u001b[0m     \u001b[0;31m# Create the parser.\u001b[0m\u001b[0;34m\u001b[0m\u001b[0;34m\u001b[0m\u001b[0m\n\u001b[0;32m--> 620\u001b[0;31m     \u001b[0mparser\u001b[0m \u001b[0;34m=\u001b[0m \u001b[0mTextFileReader\u001b[0m\u001b[0;34m(\u001b[0m\u001b[0mfilepath_or_buffer\u001b[0m\u001b[0;34m,\u001b[0m \u001b[0;34m**\u001b[0m\u001b[0mkwds\u001b[0m\u001b[0;34m)\u001b[0m\u001b[0;34m\u001b[0m\u001b[0;34m\u001b[0m\u001b[0m\n\u001b[0m\u001b[1;32m    621\u001b[0m \u001b[0;34m\u001b[0m\u001b[0m\n\u001b[1;32m    622\u001b[0m     \u001b[0;32mif\u001b[0m \u001b[0mchunksize\u001b[0m \u001b[0;32mor\u001b[0m \u001b[0miterator\u001b[0m\u001b[0;34m:\u001b[0m\u001b[0;34m\u001b[0m\u001b[0;34m\u001b[0m\u001b[0m\n",
            "\u001b[0;32m/usr/local/lib/python3.11/dist-packages/pandas/io/parsers/readers.py\u001b[0m in \u001b[0;36m__init__\u001b[0;34m(self, f, engine, **kwds)\u001b[0m\n\u001b[1;32m   1618\u001b[0m \u001b[0;34m\u001b[0m\u001b[0m\n\u001b[1;32m   1619\u001b[0m         \u001b[0mself\u001b[0m\u001b[0;34m.\u001b[0m\u001b[0mhandles\u001b[0m\u001b[0;34m:\u001b[0m \u001b[0mIOHandles\u001b[0m \u001b[0;34m|\u001b[0m \u001b[0;32mNone\u001b[0m \u001b[0;34m=\u001b[0m \u001b[0;32mNone\u001b[0m\u001b[0;34m\u001b[0m\u001b[0;34m\u001b[0m\u001b[0m\n\u001b[0;32m-> 1620\u001b[0;31m         \u001b[0mself\u001b[0m\u001b[0;34m.\u001b[0m\u001b[0m_engine\u001b[0m \u001b[0;34m=\u001b[0m \u001b[0mself\u001b[0m\u001b[0;34m.\u001b[0m\u001b[0m_make_engine\u001b[0m\u001b[0;34m(\u001b[0m\u001b[0mf\u001b[0m\u001b[0;34m,\u001b[0m \u001b[0mself\u001b[0m\u001b[0;34m.\u001b[0m\u001b[0mengine\u001b[0m\u001b[0;34m)\u001b[0m\u001b[0;34m\u001b[0m\u001b[0;34m\u001b[0m\u001b[0m\n\u001b[0m\u001b[1;32m   1621\u001b[0m \u001b[0;34m\u001b[0m\u001b[0m\n\u001b[1;32m   1622\u001b[0m     \u001b[0;32mdef\u001b[0m \u001b[0mclose\u001b[0m\u001b[0;34m(\u001b[0m\u001b[0mself\u001b[0m\u001b[0;34m)\u001b[0m \u001b[0;34m->\u001b[0m \u001b[0;32mNone\u001b[0m\u001b[0;34m:\u001b[0m\u001b[0;34m\u001b[0m\u001b[0;34m\u001b[0m\u001b[0m\n",
            "\u001b[0;32m/usr/local/lib/python3.11/dist-packages/pandas/io/parsers/readers.py\u001b[0m in \u001b[0;36m_make_engine\u001b[0;34m(self, f, engine)\u001b[0m\n\u001b[1;32m   1878\u001b[0m                 \u001b[0;32mif\u001b[0m \u001b[0;34m\"b\"\u001b[0m \u001b[0;32mnot\u001b[0m \u001b[0;32min\u001b[0m \u001b[0mmode\u001b[0m\u001b[0;34m:\u001b[0m\u001b[0;34m\u001b[0m\u001b[0;34m\u001b[0m\u001b[0m\n\u001b[1;32m   1879\u001b[0m                     \u001b[0mmode\u001b[0m \u001b[0;34m+=\u001b[0m \u001b[0;34m\"b\"\u001b[0m\u001b[0;34m\u001b[0m\u001b[0;34m\u001b[0m\u001b[0m\n\u001b[0;32m-> 1880\u001b[0;31m             self.handles = get_handle(\n\u001b[0m\u001b[1;32m   1881\u001b[0m                 \u001b[0mf\u001b[0m\u001b[0;34m,\u001b[0m\u001b[0;34m\u001b[0m\u001b[0;34m\u001b[0m\u001b[0m\n\u001b[1;32m   1882\u001b[0m                 \u001b[0mmode\u001b[0m\u001b[0;34m,\u001b[0m\u001b[0;34m\u001b[0m\u001b[0;34m\u001b[0m\u001b[0m\n",
            "\u001b[0;32m/usr/local/lib/python3.11/dist-packages/pandas/io/common.py\u001b[0m in \u001b[0;36mget_handle\u001b[0;34m(path_or_buf, mode, encoding, compression, memory_map, is_text, errors, storage_options)\u001b[0m\n\u001b[1;32m    871\u001b[0m         \u001b[0;32mif\u001b[0m \u001b[0mioargs\u001b[0m\u001b[0;34m.\u001b[0m\u001b[0mencoding\u001b[0m \u001b[0;32mand\u001b[0m \u001b[0;34m\"b\"\u001b[0m \u001b[0;32mnot\u001b[0m \u001b[0;32min\u001b[0m \u001b[0mioargs\u001b[0m\u001b[0;34m.\u001b[0m\u001b[0mmode\u001b[0m\u001b[0;34m:\u001b[0m\u001b[0;34m\u001b[0m\u001b[0;34m\u001b[0m\u001b[0m\n\u001b[1;32m    872\u001b[0m             \u001b[0;31m# Encoding\u001b[0m\u001b[0;34m\u001b[0m\u001b[0;34m\u001b[0m\u001b[0m\n\u001b[0;32m--> 873\u001b[0;31m             handle = open(\n\u001b[0m\u001b[1;32m    874\u001b[0m                 \u001b[0mhandle\u001b[0m\u001b[0;34m,\u001b[0m\u001b[0;34m\u001b[0m\u001b[0;34m\u001b[0m\u001b[0m\n\u001b[1;32m    875\u001b[0m                 \u001b[0mioargs\u001b[0m\u001b[0;34m.\u001b[0m\u001b[0mmode\u001b[0m\u001b[0;34m,\u001b[0m\u001b[0;34m\u001b[0m\u001b[0;34m\u001b[0m\u001b[0m\n",
            "\u001b[0;31mFileNotFoundError\u001b[0m: [Errno 2] No such file or directory: 'assignment11'"
          ]
        }
      ]
    },
    {
      "cell_type": "code",
      "source": [
        "from google.colab import drive\n",
        "\n",
        "drive.mount('/content/drive')\n",
        "\n",
        "df = pd.read_csv('/content/drive/MyDrive/assignment11.csv')\n",
        "df.head(10)"
      ],
      "metadata": {
        "id": "C7aq1I50ApMW"
      },
      "execution_count": null,
      "outputs": []
    },
    {
      "cell_type": "code",
      "source": [
        "from google.colab import drive\n",
        "drive.mount('/content/drive')"
      ],
      "metadata": {
        "id": "er6Sf0saBuRi"
      },
      "execution_count": null,
      "outputs": []
    }
  ]
}